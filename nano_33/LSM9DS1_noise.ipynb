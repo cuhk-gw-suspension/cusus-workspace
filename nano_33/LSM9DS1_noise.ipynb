{
 "cells": [
  {
   "cell_type": "code",
   "execution_count": 1,
   "id": "25e86ddf-82cc-47dd-864f-0250e881aa26",
   "metadata": {},
   "outputs": [],
   "source": [
    "from scipy import signal\n",
    "import numpy as np\n",
    "import matplotlib.pyplot as plt\n",
    "import os, sys\n",
    "import control as ct"
   ]
  },
  {
   "cell_type": "code",
   "execution_count": null,
   "id": "f3a35eeb-374c-403d-8e6d-b2d472e9ecbf",
   "metadata": {
    "tags": []
   },
   "outputs": [],
   "source": [
    "g = 9.81\n",
    "data = np.genfromtxt(\"measurements/119Hz_2g.csv\", delimiter=',')\n",
    "# data = [np.genfromtxt(entry.path, delimiter=',') \n",
    "#             for entry in os.scandir(\"measurements\") \n",
    "#             if entry.is_file() and entry.path.endswith(\".csv\")]"
   ]
  },
  {
   "cell_type": "code",
   "execution_count": null,
   "id": "474dd366-2e21-4e2c-a187-4dbd6e6dbc38",
   "metadata": {},
   "outputs": [],
   "source": [
    "data.shape"
   ]
  },
  {
   "cell_type": "code",
   "execution_count": null,
   "id": "50e3a50d-5862-4101-b834-b3e1d01ab514",
   "metadata": {},
   "outputs": [],
   "source": [
    "a = np.sqrt(np.sum(data**2, axis=-1))\n",
    "plt.plot(a)"
   ]
  },
  {
   "cell_type": "code",
   "execution_count": null,
   "id": "d0e8d9ef-b08a-4610-969e-26154fedc92e",
   "metadata": {},
   "outputs": [],
   "source": [
    "g*data"
   ]
  },
  {
   "cell_type": "code",
   "execution_count": null,
   "id": "dbaf0519-a650-41cb-b85b-c4c86ea8247e",
   "metadata": {
    "tags": []
   },
   "outputs": [],
   "source": [
    "\n",
    "\n",
    "fs = 119\n",
    "quan_noise = (4/2**16)*g/np.sqrt(6*fs)\n",
    "\n",
    "f, Pxx_den = signal.welch(data[100000:]*g, fs, nperseg=8192, axis=0)\n",
    "Axx_den = np.sqrt(Pxx_den)\n",
    "omega = 2*np.pi*f[1:]\n",
    "mag, phase, *_ = ct.tf(1, [1, 0, 0]).frequency_response(omega)\n",
    "\n",
    "plt.figure(figsize=(8,6))\n",
    "labels = ['x','y','z']\n",
    "for i, label in enumerate(labels):\n",
    "    plt.loglog(f[1:], Axx_den[1:, i]*mag, ',',label=label+ \": 2g\")\n",
    "plt.loglog(f[1:], quan_noise*mag, label='quan_noise: 2g, 119Hz')\n",
    "plt.ylabel(r'ASD[m/$\\sqrt{Hz}]$')\n",
    "plt.xlabel('frequency [Hz]')\n",
    "plt.legend()\n",
    "plt.grid(which='both')\n",
    "plt.show()"
   ]
  },
  {
   "cell_type": "code",
   "execution_count": null,
   "id": "7bf5eb57-d054-4684-a8ec-cac8eb7987f9",
   "metadata": {},
   "outputs": [],
   "source": [
    "f_xy, cohXY = signal.coherence(averaged[:,0], averaged[:,1], fs=fs, nperseg=256)\n",
    "\n",
    "plt.semilogx(f_xy, cohXY, label='coherence: XY')\n",
    "plt.legend()"
   ]
  }
 ],
 "metadata": {
  "kernelspec": {
   "display_name": "Python 3",
   "language": "python",
   "name": "python3"
  },
  "language_info": {
   "codemirror_mode": {
    "name": "ipython",
    "version": 3
   },
   "file_extension": ".py",
   "mimetype": "text/x-python",
   "name": "python",
   "nbconvert_exporter": "python",
   "pygments_lexer": "ipython3",
   "version": "3.8.2"
  }
 },
 "nbformat": 4,
 "nbformat_minor": 5
}
